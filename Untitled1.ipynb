{
  "nbformat": 4,
  "nbformat_minor": 0,
  "metadata": {
    "colab": {
      "provenance": [],
      "authorship_tag": "ABX9TyP0TT0Yh2XulzKX8sqe7fqg",
      "include_colab_link": true
    },
    "kernelspec": {
      "name": "python3",
      "display_name": "Python 3"
    },
    "language_info": {
      "name": "python"
    }
  },
  "cells": [
    {
      "cell_type": "markdown",
      "metadata": {
        "id": "view-in-github",
        "colab_type": "text"
      },
      "source": [
        "<a href=\"https://colab.research.google.com/github/smail12395/server/blob/main/Untitled1.ipynb\" target=\"_parent\"><img src=\"https://colab.research.google.com/assets/colab-badge.svg\" alt=\"Open In Colab\"/></a>"
      ]
    },
    {
      "cell_type": "code",
      "source": [
        "tsd"
      ],
      "metadata": {
        "id": "rihuv4i0OukP"
      },
      "execution_count": null,
      "outputs": []
    },
    {
      "cell_type": "code",
      "execution_count": 20,
      "metadata": {
        "id": "-Jt4liPHtfZp",
        "colab": {
          "base_uri": "https://localhost:8080/"
        },
        "outputId": "6af17f10-4bbe-4eb1-a805-b8a04ce4b048"
      },
      "outputs": [
        {
          "output_type": "stream",
          "name": "stdout",
          "text": [
            "Enter the app name (Instagram, WhatsApp): instagram\n",
            "Enter your conversation:  Apr 27, 2025, 12:04 AM Abdo Abdo replied to you Ok You sent sir 3lah You sent rah dbrt 3la kora nadya Apr 27, 2025, 12:25 AM Abdo Abdo Sf sir 3lah Apr 27, 2025, 10:00 AM You sent F9ti You started an audio call Audio call ended Apr 27, 2025, 10:40 AM You sent Ahya tl3 ila f9ti Apr 27, 2025, 2:02 PM Abdo Abdo Ahya smo7at rah dani n3as Abdo Abdo Ama drari fa9o Abdo Abdo You sent ba9i t3awdha ghanslkh mk Abdo Abdo Smo7at ollah tal l7d jay Abdo Abdo 3la 7sabi\n",
            "Extracted times: ['12:04', '12:25', '10:00', '10:40', '2:02']\n",
            "\n",
            "Times converted to decimal hours and sorted:\n",
            "12:04 = 2.0 hours (2h 0m)\n",
            "12:25 = 10.0 hours (10h 0m)\n",
            "10:00 = 10.7 hours (10h 42m)\n",
            "10:40 = 12.1 hours (12h 6m)\n",
            "2:02 = 12.4 hours (12h 24m)\n",
            "\n",
            "Time differences between consecutive times:\n",
            "Interval 1: 8.0 hours (8h 0m)\n",
            "Interval 2: 0.6999999999999993 hours (0h 42m)\n",
            "Interval 3: 1.4000000000000004 hours (1h 24m)\n",
            "Interval 4: 0.3000000000000007 hours (0h 18m)\n",
            "\n",
            "Average time difference: 2.6 hours (2h 36m)\n"
          ]
        }
      ],
      "source": [
        "!python main.py"
      ]
    }
  ]
}